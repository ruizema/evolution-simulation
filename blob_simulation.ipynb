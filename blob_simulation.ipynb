{
  "nbformat": 4,
  "nbformat_minor": 0,
  "metadata": {
    "colab": {
      "name": "blob_simulation.ipynb",
      "provenance": []
    },
    "kernelspec": {
      "name": "python3",
      "display_name": "Python 3"
    }
  },
  "cells": [
    {
      "cell_type": "code",
      "metadata": {
        "id": "hY2h1OLhUtJc",
        "colab_type": "code",
        "colab": {}
      },
      "source": [
        "from random import random, randrange\n",
        "import numpy as np\n",
        "import pandas as pd\n",
        "import seaborn as sns\n",
        "import matplotlib.pyplot as plt\n",
        "import math"
      ],
      "execution_count": 0,
      "outputs": []
    },
    {
      "cell_type": "code",
      "metadata": {
        "id": "RiMgrcazVvmJ",
        "colab_type": "code",
        "colab": {}
      },
      "source": [
        "# Constants for each cycle\n",
        "SURVIVAL_THRESHOLD = 1\n",
        "REPLICATION_THRESHOLD = 2\n",
        "GRID_SIZE = 10\n",
        "FOOD_QUANTITY = 10\n",
        "DIRECTIONS = {0: (1, 0), 1: (1, 1), 2: (1, 0), 3: (-1, 1), 4: (-1, 0), 5: (-1, -1), 6: (0, -1), 7: (1, -1)}\n",
        "INIT_BLOBS = 20\n",
        "NUM_DAYS = 50"
      ],
      "execution_count": 0,
      "outputs": []
    },
    {
      "cell_type": "code",
      "metadata": {
        "id": "MeiFLpBaX-dD",
        "colab_type": "code",
        "colab": {}
      },
      "source": [
        "# Environment setup\n",
        "def initialise_grid(size):\n",
        "    global grid\n",
        "    grid = np.full((size, size), False)\n",
        "\n",
        "def spawn_food(food_quantity):\n",
        "    # randomly choose positions to spawn food\n",
        "    food_positions = []\n",
        "    while len(food_positions) < FOOD_QUANTITY:\n",
        "        x = math.floor(random() * GRID_SIZE)\n",
        "        y = math.floor(random() * GRID_SIZE)\n",
        "        position = (x, y)\n",
        "        if position not in food_positions:\n",
        "            food_positions.append(position)\n",
        "    # spawn food at generated positions\n",
        "    for position in food_positions:\n",
        "        grid[position] = True"
      ],
      "execution_count": 0,
      "outputs": []
    },
    {
      "cell_type": "code",
      "metadata": {
        "id": "-brZhFbKTWn9",
        "colab_type": "code",
        "colab": {}
      },
      "source": [
        "class Blob:\n",
        "    def __init__(self, x, y):\n",
        "        self.is_dead = False\n",
        "        self.energy = 1\n",
        "        self.x = x\n",
        "        self.y = y\n",
        "        self.VISION_RANGE = 1\n",
        "        self.day_ended = True\n",
        "    def pathfinder(self):\n",
        "        # Greedy algorithm, returns a direction with relative values\n",
        "        vis = self.VISION_RANGE\n",
        "        for i in range(-vis, vis+1):\n",
        "            for j in range(-vis, vis+1):\n",
        "                if grid[self.x+i, self.y+j]:\n",
        "                    return (i, j)\n",
        "        # Random direction if nothing was found\n",
        "        return (randrange(-vis, vis+1, 1), randrange(-vis, vis+1, 1))\n",
        "    def die(self):\n",
        "        self.is_dead = True\n",
        "        self.day_ended = True\n",
        "        self.energy = 0\n",
        "    def move(self):\n",
        "        self.interact()\n",
        "        #direction = self.pathfinder()\n",
        "        # Approximate to 1 of 8 possible directions on the grid\n",
        "        # TODO: make this work in general for all possible directions\n",
        "        #numerical_direction = math.floor(math.atan(abs(direction[1]) / abs(direction[0])) * (8 / (2 * math.pi)))\n",
        "        # <temp>\n",
        "        out_of_bounds = True\n",
        "        while out_of_bounds:\n",
        "            numerical_direction = randrange(0, 8, 1)\n",
        "            relative_direction = DIRECTIONS[numerical_direction]\n",
        "            try:\n",
        "                grid[self.x+relative_direction[0], self.y+relative_direction[1]]\n",
        "                out_of_bounds = False\n",
        "            except:\n",
        "                out_of_bounds = True\n",
        "        # </temp>\n",
        "        self.x += relative_direction[0]\n",
        "        self.y += relative_direction[1]\n",
        "        # Deduct energy cost\n",
        "        self.energy -= 1 / GRID_SIZE\n",
        "        if self.energy <= 0:\n",
        "            self.die()\n",
        "    def interact(self):\n",
        "        # Eating\n",
        "        if grid[self.x, self.y]:\n",
        "            grid[self.x, self.y] = False\n",
        "            self.energy += 1\n",
        "        # Reached the edge\n",
        "        if self.x == 0 or self.y == 0 or self.x == GRID_SIZE - 1 or self.y == GRID_SIZE:\n",
        "            if self.energy >= 1:\n",
        "                self.end_day()\n",
        "    def end_day(self):\n",
        "        self.day_ended = True\n",
        "        if self.energy >= 2:\n",
        "            self.replicate()\n",
        "        self.energy = 1\n",
        "    def replicate(self):\n",
        "        blobs.append(Blob(self.x, self.y))"
      ],
      "execution_count": 0,
      "outputs": []
    },
    {
      "cell_type": "code",
      "metadata": {
        "id": "dswvv-X0oF6e",
        "colab_type": "code",
        "colab": {}
      },
      "source": [
        "def spawn_blobs(n):\n",
        "    blob_list = []\n",
        "    for i in range(n):\n",
        "        blob_list.append(Blob(randrange(0, GRID_SIZE, 1), randrange(0, GRID_SIZE, 1)))\n",
        "    return blob_list"
      ],
      "execution_count": 0,
      "outputs": []
    },
    {
      "cell_type": "code",
      "metadata": {
        "id": "KFYPXNsPbpuH",
        "colab_type": "code",
        "colab": {
          "base_uri": "https://localhost:8080/",
          "height": 302
        },
        "outputId": "adec0cd8-a8bd-4895-a1c3-fc822d3b74e8"
      },
      "source": [
        "# Preparing the map\n",
        "initialise_grid(GRID_SIZE)\n",
        "blobs = spawn_blobs(INIT_BLOBS)\n",
        "# TODO: change it to everyone moving at once, instead of everyone waiting their turn to go through their day\n",
        "stats = []\n",
        "for day in range(NUM_DAYS):\n",
        "    spawn_food(FOOD_QUANTITY)\n",
        "    stats.append(np.sum([(not blob.is_dead) for blob in blobs]))\n",
        "    for blob in blobs:\n",
        "        if not blob.is_dead:\n",
        "            blob.day_ended = False\n",
        "    while np.sum([(not blob.day_ended) for blob in blobs]) > 0:\n",
        "        for blob in blobs:\n",
        "            if not blob.is_dead and not blob.day_ended:\n",
        "                blob.move()\n",
        "\n",
        "sns.set()\n",
        "plt.plot(range(0, NUM_DAYS), stats)\n",
        "plt.xlabel(\"Days\")\n",
        "plt.ylabel(\"Number of Blobs\")"
      ],
      "execution_count": 165,
      "outputs": [
        {
          "output_type": "execute_result",
          "data": {
            "text/plain": [
              "Text(0, 0.5, 'Number of Blobs')"
            ]
          },
          "metadata": {
            "tags": []
          },
          "execution_count": 165
        },
        {
          "output_type": "display_data",
          "data": {
            "image/png": "[encoded data removed]",
            "text/plain": [
              "<Figure size 432x288 with 1 Axes>"
            ]
          },
          "metadata": {
            "tags": []
          }
        }
      ]
    }
  ]
}